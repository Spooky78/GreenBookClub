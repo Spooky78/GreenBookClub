{
 "cells": [
  {
   "cell_type": "markdown",
   "metadata": {},
   "source": [
    "**Q1) Given a matrix consisting of 0s and 1s, we may choose any number of columns in the matrix and flip every cell in that column. Flipping a cell changes the value of that cell from 0 to 1 or from 1 to 0. Return the maximum number of rows that have all values equal after some number of flips.**"
   ]
  },
  {
   "cell_type": "markdown",
   "metadata": {},
   "source": [
    "**Q2) Given an array of integers, find the smallest missing integer greater than 0.**"
   ]
  },
  {
   "cell_type": "markdown",
   "metadata": {},
   "source": [
    "**Q3) Given a positive integer, print the next smallest and next largest numbers that have the same number of 1 bits in their binary representation. Assume it is even.**"
   ]
  },
  {
   "cell_type": "code",
   "execution_count": 14,
   "metadata": {},
   "outputs": [
    {
     "name": "stdout",
     "output_type": "stream",
     "text": [
      "11\n",
      "False\n"
     ]
    }
   ],
   "source": [
    "def findBinary(num, ansArray):\n",
    "    if (num > 1):\n",
    "        findBinary(num//2)\n",
    "    ansArray.append(num%2)\n",
    "    return ansArray\n",
    "\n",
    "def countOnes(targetNum):\n",
    "    count = 0\n",
    "    for i in range(len(targetNum)):\n",
    "        if (targetNum[i] == 1):\n",
    "            count += 1\n",
    "    return count\n",
    "\n",
    "binaryCurrent = []\n",
    "def smallestBinary(target): #5: 0011\n",
    "    smallestBinary = ''\n",
    "    count = countOnes(5)  #target Num\n",
    "    for i in range(count):\n",
    "        smallestBinary += '1'\n",
    "    print (smallestBinary)\n",
    "\n",
    "    foundSmallest = False\n",
    "    countMinus = 1\n",
    "    while(foundSmallest != True):\n",
    "        currentArray = []\n",
    "        currentArray = findBinary(target-countMinus, currentArray)\n",
    "\n",
    "        foundSmallest = True\n",
    "\n",
    "input = 5 # 0101\n",
    "targetNum = []\n",
    "targetArray = findBinary(input, targetNum)\n",
    "\n",
    "\n",
    "smallestBinary(5)"
   ]
  }
 ],
 "metadata": {
  "kernelspec": {
   "display_name": "Python 3.10.6 64-bit",
   "language": "python",
   "name": "python3"
  },
  "language_info": {
   "codemirror_mode": {
    "name": "ipython",
    "version": 3
   },
   "file_extension": ".py",
   "mimetype": "text/x-python",
   "name": "python",
   "nbconvert_exporter": "python",
   "pygments_lexer": "ipython3",
   "version": "3.10.6"
  },
  "orig_nbformat": 4,
  "vscode": {
   "interpreter": {
    "hash": "916dbcbb3f70747c44a77c7bcd40155683ae19c65e1c03b4aa3499c5328201f1"
   }
  }
 },
 "nbformat": 4,
 "nbformat_minor": 2
}
