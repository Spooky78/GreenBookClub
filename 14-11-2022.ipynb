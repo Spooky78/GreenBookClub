{
 "cells": [
  {
   "cell_type": "markdown",
   "metadata": {},
   "source": [
    "**Given a 2-dimensional array filled with 0s and 1s (a binary matrix), find the largest rectangle containing only 1s and return its area.**"
   ]
  },
  {
   "cell_type": "code",
   "execution_count": 14,
   "metadata": {},
   "outputs": [
    {
     "name": "stdout",
     "output_type": "stream",
     "text": [
      "Area of maximum rectangle is 8\n"
     ]
    }
   ],
   "source": [
    "class Solution():\n",
    "    def maxHist(self, row):\n",
    "        result = []\n",
    "        # Top of stack\n",
    "        top_val = 0\n",
    "        # Initialize max area in current\n",
    "        max_area = 0\n",
    "        # row (or histogram)\n",
    "        area = 0  # Initialize area with current top\n",
    "        # Run through all bars of given\n",
    "        # histogram (or row)\n",
    "        i = 0\n",
    "        while (i < len(row)):\n",
    "            if (len(result) == 0) or (row[result[-1]] <= row[i]):\n",
    "                result.append(i)\n",
    "                i += 1\n",
    "            else:\n",
    "\n",
    "                top_val = row[result.pop()]\n",
    "                area = top_val * i\n",
    "                if (len(result)):\n",
    "                    area = top_val * (i - result[-1] - 1)\n",
    "                max_area = max(area, max_area)\n",
    "\n",
    "        while (len(result)):\n",
    "            top_val = row[result.pop()]\n",
    "            area = top_val * i\n",
    "            if (len(result)):\n",
    "                area = top_val * (i - result[-1] - 1)\n",
    "            \n",
    "            max_area = max(area, max_area)\n",
    "        return max_area\n",
    "\n",
    "    def maxRectangle(self, A):\n",
    "\n",
    "        result = self.maxHist(A[0])\n",
    "\n",
    "        for i in range(1, len(A)):\n",
    "            for j in range(len(A[i])):\n",
    "\n",
    "                if (A[i][j]):\n",
    "                    A[i][j] += A[i - 1][j]\n",
    "\n",
    "            result = max(result, self.maxHist(A[i]))\n",
    "        return result\n",
    "\n",
    "if __name__ == '__main__':\n",
    "    A = [[0, 1, 1, 0],\n",
    "        [1, 1, 1, 1],\n",
    "        [1, 1, 1, 1],\n",
    "        [1, 1, 0, 0]]\n",
    "    ans = Solution()\n",
    "\n",
    "    print(\"Area of maximum rectangle is\", ans.maxRectangle(A))"
   ]
  },
  {
   "cell_type": "markdown",
   "metadata": {},
   "source": [
    "**Given an N x N matrix of numbers, write a method to rotate the matrix by 90 degrees.**"
   ]
  },
  {
   "cell_type": "code",
   "execution_count": 3,
   "metadata": {},
   "outputs": [
    {
     "name": "stdout",
     "output_type": "stream",
     "text": [
      "13 9 5 1 \n",
      "14 10 6 2 \n",
      "15 11 7 3 \n",
      "16 12 8 4 \n"
     ]
    }
   ],
   "source": [
    "#Transpose the matrix and then reflect about middle column\n",
    "#e.g:   [0,1]         [0,3]      [3,0]\n",
    "#       [3,4]   -->   [1,4]  --> [4,1]\n",
    "\n",
    "#Time: O(n^2)\n",
    "#Space O(1)\n",
    "def display(arr, N):\n",
    "    for i in range(N) :\n",
    "        for j in range(N) :\n",
    "            print(arr[i][j],end=\" \")\n",
    "        print()\n",
    "\n",
    "def rotate90Clockwise(arr, N) :\n",
    "    for i in range(N) :\n",
    "        for j in range(i) :\n",
    "            temp = arr[i][j]\n",
    "            arr[i][j] = arr[j][i]\n",
    "            arr[j][i] = temp\n",
    "\n",
    "    for i in range(N) :\n",
    "        for j in range(N//2) :\n",
    "            temp = arr[i][j]\n",
    "            arr[i][j] = arr[i][N-j-1]\n",
    "            arr[i][N-j-1] = temp\n",
    "\n",
    "arr = [ [ 1, 2, 3, 4 ],\n",
    "    [ 5, 6, 7, 8 ],\n",
    "    [ 9, 10, 11, 12 ],\n",
    "    [ 13, 14, 15, 16 ] ]\n",
    "\n",
    "\n",
    "arr2 = [[1,2,3],\n",
    "    [4,5,6],\n",
    "    [7,8,9]]\n",
    "\n",
    "N = len(arr)\n",
    "rotate90Clockwise(arr, N)\n",
    "display(arr, N)"
   ]
  },
  {
   "cell_type": "code",
   "execution_count": 15,
   "metadata": {},
   "outputs": [
    {
     "name": "stdout",
     "output_type": "stream",
     "text": [
      "[13, 9, 5, 1]\n",
      "[14, 10, 6, 2]\n",
      "[15, 11, 7, 3]\n",
      "[16, 12, 8, 4]\n"
     ]
    }
   ],
   "source": [
    "#Consider all squares/cycles one by one, there will be maximum Ceil(N/2) cycles for any N.\n",
    "#The first cycle is formed by its 1st row, last column, last row and 1st column. \n",
    "#The second cycle is formed by 2nd row, second-last column, second-last row and 2nd column and so on.\n",
    "\n",
    "#Time: O(n*2)\n",
    "#Size: O(1)\n",
    "def rotate90Clockwise(A):\n",
    "    N = len(A[0])\n",
    "    for i in range(N // 2):\n",
    "        for j in range(i, N - i - 1):\n",
    "            temp = A[i][j]\n",
    "            A[i][j] = A[N - 1 - j][i]\n",
    "            A[N - 1 - j][i] = A[N - 1 - i][N - 1 - j]\n",
    "            A[N - 1 - i][N - 1 - j] = A[j][N - 1 - i]\n",
    "            A[j][N - 1 - i] = temp\n",
    "\n",
    "def printMatrix(A):\n",
    "    N = len(A[0])\n",
    "    for i in range(N):\n",
    "        print(A[i])\n",
    "\n",
    "A = [[1, 2, 3, 4],\n",
    "    [5, 6, 7, 8],\n",
    "    [9, 10, 11, 12],\n",
    "    [13, 14, 15, 16]]\n",
    "rotate90Clockwise(A)\n",
    "printMatrix(A)"
   ]
  }
 ],
 "metadata": {
  "kernelspec": {
   "display_name": "Python 3.10.6 64-bit",
   "language": "python",
   "name": "python3"
  },
  "language_info": {
   "codemirror_mode": {
    "name": "ipython",
    "version": 3
   },
   "file_extension": ".py",
   "mimetype": "text/x-python",
   "name": "python",
   "nbconvert_exporter": "python",
   "pygments_lexer": "ipython3",
   "version": "3.10.6"
  },
  "orig_nbformat": 4,
  "vscode": {
   "interpreter": {
    "hash": "916dbcbb3f70747c44a77c7bcd40155683ae19c65e1c03b4aa3499c5328201f1"
   }
  }
 },
 "nbformat": 4,
 "nbformat_minor": 2
}
