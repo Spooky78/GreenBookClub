{
 "cells": [
  {
   "cell_type": "markdown",
   "metadata": {},
   "source": [
    "**Q1) Given two strings s1 and s2, where length(s1) < length(s2), find the index of the first instance where s1 is a substring of s2.**\n",
    "\n",
    "Extension: Return the index of all substrings of s1 in s2."
   ]
  },
  {
   "cell_type": "code",
   "execution_count": 17,
   "metadata": {},
   "outputs": [
    {
     "name": "stdout",
     "output_type": "stream",
     "text": [
      "Present at index 5\n"
     ]
    }
   ],
   "source": [
    "def isSubstring(s1, s2):\n",
    "    M = len(s1)\n",
    "    N = len(s2)\n",
    " \n",
    "    # A loop to slide pat[] one by one\n",
    "    for i in range(N - M + 1):\n",
    " \n",
    "        # For current index i,\n",
    "        # check for pattern match\n",
    "        for j in range(M):\n",
    "            if (s2[i + j] != s1[j]):\n",
    "                break\n",
    " \n",
    "        if j + 1 == M:\n",
    "            return i\n",
    " \n",
    "    return -1\n",
    " \n",
    " \n",
    "# Driver Code\n",
    "if __name__ == \"__main__\":\n",
    "    s1 = \"for\"\n",
    "    s2 = \"geeksforgeeks\"\n",
    "    res = isSubstring(s1, s2)\n",
    "    if res == -1:\n",
    "        print(\"Not present\")\n",
    "    else:\n",
    "        print(\"Present at index \" + str(res))"
   ]
  },
  {
   "cell_type": "markdown",
   "metadata": {},
   "source": [
    "**Q3) You're on a game show and there are 3 doors, which are all shut.The game show host asks you to pick a door. You pick a door and then the game show host opens a door other than the one you picked, to reveal a pair of goats. She says: \"Behind one of the remaining doors is a goat and behind the other door is a luxurious car\". What is the best strategy to win the car?**\n",
    "\n",
    "1. Hold on to the door you selected originally\n",
    "2. Switch and select the other door\n",
    "\n",
    "Or, are the two strategies leading to the same result? Try writing a simulation for this problem and report on the results"
   ]
  },
  {
   "cell_type": "code",
   "execution_count": 15,
   "metadata": {},
   "outputs": [
    {
     "name": "stdout",
     "output_type": "stream",
     "text": [
      "\n",
      "    100,000 games were played \n",
      "    Chances of winning the car based on the following strategies:\n",
      "    Remaining with initial selection: 33.6%\n",
      "    Switching doors: 66.4%\n",
      "\n",
      "Simulation Completed in: 1.57 Seconds\n"
     ]
    }
   ],
   "source": [
    "from numpy import random\n",
    "import numpy as np\n",
    "import time\n",
    "\n",
    "def MontyHallSimulation (N):\n",
    "    ChoiceUnchanged=[]\n",
    "    ChoiceChanged=[]\n",
    "    NN=1\n",
    "    for i in range(0,N):\n",
    "        \n",
    "        # 1) The car is placed behind a random door.\n",
    "        WinningDoor=random.choice(['Door 1', 'Door 2', 'Door 3'])\n",
    "\n",
    "        # 2) The contestant selects a random door.\n",
    "        FirstSelection=random.choice(['Door 1', 'Door 2', 'Door 3'])\n",
    "        \n",
    "        # 3) The host opens a door that is different than the contestants choice \n",
    "        #    and not the door with the car.\n",
    "        HostOpens=list(set(['Door 1', 'Door 2', 'Door 3'])-set([FirstSelection,WinningDoor]))[0]\n",
    "        \n",
    "        # 4) The other door is not the participant's selected door and not the opened door. \n",
    "        OtherDoor=list(set(['Door 1', 'Door 2', 'Door 3'])-set([FirstSelection,HostOpens]))[0]\n",
    "        \n",
    "        # 5) Add \"True\" to a list where the participant DOES NOT change their selection AND thier \n",
    "        #    selection identified the door with the car. \n",
    "        ChoiceUnchanged.append(FirstSelection==WinningDoor)\n",
    "        \n",
    "        # 6) Add \"True\" to a list where the participant DOES change their selection and thier \n",
    "        #    new selected door has the car behind it.\n",
    "        ChoiceChanged.append(OtherDoor==WinningDoor)\n",
    "        \n",
    "    # NOTE: The boolean object \"TRUE\" is equal to 1 and \"False\" is equal to 0.\n",
    "    #       As such, we can use the \"sum\" function to get the total number of wins\n",
    "    #       for each strategy.\n",
    "    print(f'\\n\\\n",
    "    {N:,} games were played \\n\\\n",
    "    Chances of winning the car based on the following strategies:\\n\\\n",
    "    Remaining with initial selection: {\"{:.1%}\".format(sum(ChoiceUnchanged)/N)}\\n\\\n",
    "    Switching doors: {\"{:.1%}\".format(sum(ChoiceChanged)/N)}')\n",
    "            \n",
    "###############################            \n",
    "###### Run the Simulation######\n",
    "###############################\n",
    "Start_time = time.time()\n",
    "MontyHallSimulation(N=100000)         \n",
    "print(f'\\nSimulation Completed in: {round(time.time()-Start_time,2)} Seconds')"
   ]
  },
  {
   "cell_type": "markdown",
   "metadata": {},
   "source": [
    "**Q3) You want to sort an array of numbers. However, you have a problem. You are a dictator and your philosophy is: if something doesn't follow your rules, kill it! Let's introduce Stalin Sort:**\n",
    "\n",
    "1. You have an array of random positive integers. \n",
    "2. In this array, if a number is \"out of order\" it shall be killed.\n",
    "3. At the end of the algorithm, all numbers should appear consecutively. Any open spaces (if any) can only appear at the end of the array."
   ]
  },
  {
   "cell_type": "code",
   "execution_count": 19,
   "metadata": {},
   "outputs": [
    {
     "name": "stdout",
     "output_type": "stream",
     "text": [
      "Input: [5, 12, 12, 45, 24, 26, 9, 30, 29, 37, 1, 22, 45, 8, 33, 7, 10, 49, 5, 39, 39, 7, 15, 31, 37]\n",
      "Output: [5, 12, 12, 45, 45, 49]\n"
     ]
    }
   ],
   "source": [
    "import numpy as np\n",
    "\n",
    "# Code\n",
    "def stalin_sort(list_a):\n",
    "    len_a = len(list_a)\n",
    "    the_end = False\n",
    "    i = 0\n",
    "    j = i + 1\n",
    "    while not the_end:\n",
    "        if list_a[i] > list_a[j]:\n",
    "            list_a.pop(j)\n",
    "            len_a = len(list_a)\n",
    "            if i == len_a - 1:\n",
    "                the_end = True\n",
    "        else:\n",
    "            i += 1\n",
    "            j += 1\n",
    "            if j == len_a:\n",
    "                the_end = True\n",
    "\n",
    "    return list_a\n",
    "\n",
    "# Input\n",
    "n = 25  # Elements\n",
    "A = np.random.randint(low=0, high=50, size=n)\n",
    "A = list(A)\n",
    "print(f\"Input: {A}\")\n",
    "\n",
    "# Output\n",
    "print(f\"Output: {stalin_sort(A)}\")"
   ]
  }
 ],
 "metadata": {
  "kernelspec": {
   "display_name": "Python 3.10.6 64-bit",
   "language": "python",
   "name": "python3"
  },
  "language_info": {
   "codemirror_mode": {
    "name": "ipython",
    "version": 3
   },
   "file_extension": ".py",
   "mimetype": "text/x-python",
   "name": "python",
   "nbconvert_exporter": "python",
   "pygments_lexer": "ipython3",
   "version": "3.10.6"
  },
  "orig_nbformat": 4,
  "vscode": {
   "interpreter": {
    "hash": "916dbcbb3f70747c44a77c7bcd40155683ae19c65e1c03b4aa3499c5328201f1"
   }
  }
 },
 "nbformat": 4,
 "nbformat_minor": 2
}
