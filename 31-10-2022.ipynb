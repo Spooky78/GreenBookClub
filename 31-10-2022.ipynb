{
 "cells": [
  {
   "cell_type": "markdown",
   "metadata": {},
   "source": [
    "Q1) There are 100 closed lockers in a hallway. Behind the lockers are monsters. On round 1, you go through the lockers and open every single one. On round 2, you go through the lockers and shut every second. On round 3, you go through the lockers and toggle every third. On round N, you go through the lockers and toggle every Nth. After 100 rounds, the monsters will exit the open lockers and attack. How many monsters will there be attacking you?\n",
    "\n",
    "Extension 1: Instead of 100 lockers, you now have N lockers and N rounds. Solve the same problem :-)\n",
    "\n",
    "Extension 2: Now, you have N lockers and M rounds, where N and M are not necessarily the same number. Solve the same problem once more."
   ]
  },
  {
   "cell_type": "code",
   "execution_count": 20,
   "metadata": {},
   "outputs": [
    {
     "name": "stdout",
     "output_type": "stream",
     "text": [
      "1\n",
      "4\n",
      "9\n",
      "16\n",
      "25\n",
      "36\n",
      "49\n",
      "64\n",
      "81\n",
      "100\n"
     ]
    }
   ],
   "source": [
    "#O(n^2)\n",
    "LOCKERS = 100\n",
    "ROUNDS = 100\n",
    "\n",
    "lockers = [False] * (LOCKERS+1) #ignore index 0\n",
    "\n",
    "for i in range (1,ROUNDS+1):\n",
    "    #for 2nd pass start at 2, for 3rd start at 3, ect\n",
    "    for j in range (i,LOCKERS+1,i):\n",
    "        lockers[j] = not lockers[j]\n",
    "\n",
    "for i in range (1,101):\n",
    "    if lockers[i] is True:\n",
    "        print(i)"
   ]
  },
  {
   "cell_type": "markdown",
   "metadata": {},
   "source": [
    "Q2) You have 1000 bottles of soda, and exactly one is poisoned. You have 10 test strips which can be used to detect poison. A single drop of poison will turn the test strip positive permanently. You can put any number of drops on a test strip at once and you can reuse a test strip as many times as you'd like (as long as the results are negative). However, you can only run tests once per day and it takes seven days to return a result. How would you figure out the poisoned bottle in as few days as possible?\n",
    "\n",
    "1: strips 10:100\n",
    "2: strips9: 11.1 = 12\n",
    "3: strips8: 1.5 = 2\n",
    "4: strips7: 1\n",
    "\n",
    "days 4*7= 28"
   ]
  },
  {
   "cell_type": "code",
   "execution_count": 21,
   "metadata": {},
   "outputs": [
    {
     "name": "stdout",
     "output_type": "stream",
     "text": [
      "28\n"
     ]
    }
   ],
   "source": [
    "#naive 28 days\n",
    "BOTTLES = 1000\n",
    "strips = 10\n",
    "days = 0\n",
    "currentBottles = BOTTLES\n",
    "\n",
    "while(currentBottles > 1):\n",
    "    currentBottles = currentBottles/strips\n",
    "    strips = strips -1\n",
    "    days = days+7\n",
    "\n",
    "print(days)\n",
    "    "
   ]
  }
 ],
 "metadata": {
  "kernelspec": {
   "display_name": "Python 3.10.6 64-bit",
   "language": "python",
   "name": "python3"
  },
  "language_info": {
   "codemirror_mode": {
    "name": "ipython",
    "version": 3
   },
   "file_extension": ".py",
   "mimetype": "text/x-python",
   "name": "python",
   "nbconvert_exporter": "python",
   "pygments_lexer": "ipython3",
   "version": "3.10.6"
  },
  "orig_nbformat": 4,
  "vscode": {
   "interpreter": {
    "hash": "916dbcbb3f70747c44a77c7bcd40155683ae19c65e1c03b4aa3499c5328201f1"
   }
  }
 },
 "nbformat": 4,
 "nbformat_minor": 2
}
