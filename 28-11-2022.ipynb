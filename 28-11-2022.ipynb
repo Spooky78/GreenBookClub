{
 "cells": [
  {
   "cell_type": "markdown",
   "metadata": {},
   "source": [
    "**Write a method to count the number of twos (2) that appear between the number 0 and n (for a given n).**"
   ]
  },
  {
   "cell_type": "code",
   "execution_count": null,
   "metadata": {},
   "outputs": [],
   "source": [
    "#Brute force: Time complexity: O(n*log(n))\n",
    "\n",
    "\n",
    "def number0f2sInN(n):\n",
    "    count = 0\n",
    "    while (n > 0):\n",
    "        if (n % 10 == 2):\n",
    "            count = count + 1\n",
    "        n = n // 10\n",
    "    return count\n",
    "\n",
    "def numberOf2sinRange(n):\n",
    "    count = 0\n",
    "    for i in range(2, n + 1):\n",
    "        count = count + number0f2sInN(i)\n",
    "    return count\n",
    "\n",
    "print(numberOf2sinRange(22))\n",
    "print(numberOf2sinRange(100))"
   ]
  },
  {
   "cell_type": "code",
   "execution_count": 5,
   "metadata": {},
   "outputs": [
    {
     "name": "stdout",
     "output_type": "stream",
     "text": [
      "0\n",
      "1\n",
      "6\n",
      "0\n",
      "1\n",
      "2\n",
      "20\n"
     ]
    }
   ],
   "source": [
    "#Improved solution: Time Compexity: O(log(n))\n",
    "\n",
    "#Roughly 1/10th of digits is 2, work out ecactly by looking at ratio at 3 cases\n",
    "#   digit < 2: roundDown 10^(n+1)\n",
    "#   digit > 2: roundUp 10^(n+1)\n",
    "#   dogit = 2: e.g num=256 n=\n",
    "\n",
    "# Counts the number of 2s in a number at n-th digit\n",
    "def count2sinRangeAtDigit(number, n):               #e.g. number=22      n=1     n=0\n",
    "    powerOf10 = int(pow(10, n));                                       # =10     =1\n",
    "    nextPowerOf10 = powerOf10 * 10;                                    # =100    =10\n",
    "    right = number % powerOf10;                                        # =2      =0\n",
    "\n",
    "    roundDown = number - number % nextPowerOf10;                       # =0      =20\n",
    "    roundup = roundDown + nextPowerOf10;                               # =100    =30\n",
    "    digit = (number // powerOf10) % 10;                                #=2      =2\n",
    "    # if the digit in spot digit is\n",
    "    if (digit < 2):                                                    #no     #no\n",
    "        return roundDown // 10;                     \n",
    "    if (digit == 2):                                                   #yes    #yes\n",
    "        return roundDown // 10 + right + 1;                            #3      #3\n",
    "    ## if digit > 2:    \n",
    "    return roundup // 10;                                                       \n",
    "\n",
    "# Counts the number of '2' digits\n",
    "# between 0 and n\n",
    "def numberOf2sinRange(number):\n",
    "    # Convert integer to String to find its length\n",
    "    s = str(number)\n",
    "    len1 = len(s)\n",
    "\n",
    "    # Traverse every digit and count for every digit\n",
    "    count = 0\n",
    "    for digit in range(len1):\n",
    "        print(digit)\n",
    "        count += count2sinRangeAtDigit(number, digit)\n",
    "    return count\n",
    "\n",
    "print(numberOf2sinRange(22))\n",
    "print(numberOf2sinRange(100))"
   ]
  },
  {
   "cell_type": "markdown",
   "metadata": {},
   "source": [
    "**Given strings s1, s2, and s3, where length(s1) + length(s2) = length(s3), determine if you can interleave the characters in s1 and s2 to get s3.**\n",
    "\n",
    "Part A:\n",
    "\n",
    "The strings s1 and s2 do not share any characters.\n",
    "\n",
    "Part B:\n",
    "\n",
    "The strings s1 and s2 can contain any characters (i.e. s1 = \"aabc\", s2 = \"aabf\")."
   ]
  },
  {
   "cell_type": "markdown",
   "metadata": {},
   "source": [
    "**Given a list of daily temperatures, return a list such that, for each day in the input, tells you how many days you would have to wait until a warmer temperature. If there is no future day for which this is possible, put 0 instead.**"
   ]
  }
 ],
 "metadata": {
  "kernelspec": {
   "display_name": "Python 3.10.6 64-bit",
   "language": "python",
   "name": "python3"
  },
  "language_info": {
   "codemirror_mode": {
    "name": "ipython",
    "version": 3
   },
   "file_extension": ".py",
   "mimetype": "text/x-python",
   "name": "python",
   "nbconvert_exporter": "python",
   "pygments_lexer": "ipython3",
   "version": "3.10.6"
  },
  "orig_nbformat": 4,
  "vscode": {
   "interpreter": {
    "hash": "916dbcbb3f70747c44a77c7bcd40155683ae19c65e1c03b4aa3499c5328201f1"
   }
  }
 },
 "nbformat": 4,
 "nbformat_minor": 2
}
