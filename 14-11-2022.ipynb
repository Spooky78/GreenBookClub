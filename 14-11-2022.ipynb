{
 "cells": [
  {
   "cell_type": "markdown",
   "metadata": {},
   "source": [
    "**Given a 2-dimensional array filled with 0s and 1s (a binary matrix), find the largest rectangle containing only 1s and return its area.**"
   ]
  },
  {
   "cell_type": "code",
   "execution_count": 13,
   "metadata": {},
   "outputs": [
    {
     "name": "stdout",
     "output_type": "stream",
     "text": [
      "The area of the largest rectangle of 1's is 6\n"
     ]
    }
   ],
   "source": [
    "# Utility function to replace all non-zero values in a matrix by 1\n",
    "def resetMatrix(mat):\n",
    "    for i in range(len(mat)):\n",
    "        for j in range(len(mat[0])):\n",
    "            if mat[i][j] != 0:\n",
    "                mat[i][j] = 1\n",
    "\n",
    "# Function to calculate the area of the largest rectangle of 1's where swapping of\n",
    "# columns is allowed\n",
    "def findMaxRectArea(mat):\n",
    "\n",
    "# base case\n",
    "    if not mat or not len(mat):\n",
    "        return 0\n",
    "\n",
    "# `M × N` matrix\n",
    "    M = len(mat)\n",
    "    N = len(mat[0])\n",
    "\n",
    "    # update the matrix to store the counts of consecutive 1's present in each column\n",
    "    for j in range(N):\n",
    "        # process each column from bottom to top\n",
    "        for i in reversed(range(0, M - 1)):\n",
    "            if mat[i][j] == 1:\n",
    "                mat[i][j] = mat[i + 1][j] + 1\n",
    "\n",
    "    # keep track of the largest rectangle of 1's found so far\n",
    "    maxArea = 0\n",
    "\n",
    "    # traverse each row in the modified matrix to find the maximum area\n",
    "    for i in range(M):\n",
    "\n",
    "        # create a count array for each row `i`\n",
    "        count = [0] * (M + 1)\n",
    "\n",
    "        # process row `i`\n",
    "        for j in range(N):\n",
    "            if mat[i][j] > 0:\n",
    "                # increment value in the count array using the current element\n",
    "                # as an index\n",
    "                count[mat[i][j]] += 1\n",
    "                # the area can be calculated by multiplying the current\n",
    "                # element `mat[i][j]` with the corresponding value in the\n",
    "                # count array `count[mat[i][j]]`\n",
    "                maxArea = max(maxArea, mat[i][j] * count[mat[i][j]])\n",
    "    # reset matrix before returning\n",
    "    #resetMatrix(mat)\n",
    "    return maxArea\n",
    "\n",
    "if __name__ == '__main__':\n",
    "    mat = [[1,0,1,0,0],\n",
    "        [1,1,1,1,1],\n",
    "        [1,1,1,1,1],\n",
    "        [1,0,0,1,0]]\n",
    "        \n",
    "        \n",
    "    mat1 = [[0, 1, 0, 1, 1],\n",
    "        [1, 1, 0, 0, 1],\n",
    "        [1, 1, 0, 1, 1],\n",
    "        [1, 1, 1, 1, 1]]\n",
    "\n",
    "    \n",
    "print(\"The area of the largest rectangle of 1's is\", findMaxRectArea(mat))"
   ]
  },
  {
   "cell_type": "code",
   "execution_count": null,
   "metadata": {},
   "outputs": [],
   "source": [
    "class Solution():\n",
    "    def maxHist(self, row):\n",
    "        result = []\n",
    "        # Top of stack\n",
    "        top_val = 0\n",
    "        # Initialize max area in current\n",
    "        max_area = 0\n",
    "        # row (or histogram)\n",
    "        area = 0  # Initialize area with current top\n",
    "        # Run through all bars of given\n",
    "        # histogram (or row)\n",
    "        i = 0\n",
    "        while (i < len(row)):\n",
    "            # If this bar is higher than the\n",
    "            # bar on top stack, push it to stack\n",
    "            if (len(result) == 0) or (row[result[-1]] <= row[i]):\n",
    "                result.append(i)\n",
    "                i += 1\n",
    "            else:\n",
    "\n",
    "                top_val = row[result.pop()]\n",
    "                area = top_val * i\n",
    "                if (len(result)):\n",
    "                    area = top_val * (i - result[-1] - 1)\n",
    "                max_area = max(area, max_area)\n",
    "\n",
    "        while (len(result)):\n",
    "            top_val = row[result.pop()]\n",
    "            area = top_val * i\n",
    "            if (len(result)):\n",
    "                area = top_val * (i - result[-1] - 1)\n",
    "            \n",
    "            max_area = max(area, max_area)\n",
    "        return max_area\n",
    "\n",
    "    def maxRectangle(self, A):\n",
    "\n",
    "        result = self.maxHist(A[0])\n",
    "\n",
    "        for i in range(1, len(A)):\n",
    "            for j in range(len(A[i])):\n",
    "\n",
    "                if (A[i][j]):\n",
    "                    A[i][j] += A[i - 1][j]\n",
    "\n",
    "            result = max(result, self.maxHist(A[i]))\n",
    "        return result\n",
    "\n",
    "if __name__ == '__main__':\n",
    "    A = [[0, 1, 1, 0],\n",
    "        [1, 1, 1, 1],\n",
    "        [1, 1, 1, 1],\n",
    "        [1, 1, 0, 0]]\n",
    "    ans = Solution()\n",
    "\n",
    "    print(\"Area of maximum rectangle is\", ans.maxRectangle(A))"
   ]
  },
  {
   "cell_type": "markdown",
   "metadata": {},
   "source": [
    "**Given an N x N matrix of numbers, write a method to rotate the matrix by 90 degrees.**"
   ]
  }
 ],
 "metadata": {
  "kernelspec": {
   "display_name": "Python 3.10.6 64-bit",
   "language": "python",
   "name": "python3"
  },
  "language_info": {
   "codemirror_mode": {
    "name": "ipython",
    "version": 3
   },
   "file_extension": ".py",
   "mimetype": "text/x-python",
   "name": "python",
   "nbconvert_exporter": "python",
   "pygments_lexer": "ipython3",
   "version": "3.10.6"
  },
  "orig_nbformat": 4,
  "vscode": {
   "interpreter": {
    "hash": "916dbcbb3f70747c44a77c7bcd40155683ae19c65e1c03b4aa3499c5328201f1"
   }
  }
 },
 "nbformat": 4,
 "nbformat_minor": 2
}
