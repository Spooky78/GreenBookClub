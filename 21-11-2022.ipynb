{
 "cells": [
  {
   "cell_type": "markdown",
   "metadata": {},
   "source": [
    "**Q1) Given a matrix consisting of 0s and 1s, we may choose any number of columns in the matrix and flip every cell in that column. Flipping a cell changes the value of that cell from 0 to 1 or from 1 to 0. Return the maximum number of rows that have all values equal after some number of flips.**"
   ]
  },
  {
   "cell_type": "markdown",
   "metadata": {},
   "source": [
    "**Q2) Given an array of integers, find the smallest missing integer greater than 0.**"
   ]
  },
  {
   "cell_type": "code",
   "execution_count": 2,
   "metadata": {},
   "outputs": [
    {
     "name": "stdout",
     "output_type": "stream",
     "text": [
      "Smallest missing element is 8\n"
     ]
    }
   ],
   "source": [
    "def findFirstMissing(array, start, end):\n",
    "    if (start > end):\n",
    "        return end + 1\n",
    "    \n",
    "    if (start != array[start]):\n",
    "        return start\n",
    "    \n",
    "    mid = int((start + end) / 2)\n",
    "    \n",
    "    if (array[mid] == mid):\n",
    "        return findFirstMissing(array,mid+1, end)\n",
    "    \n",
    "    return findFirstMissing(array,start, mid)\n",
    "\n",
    "\n",
    "\n",
    "arr = [0, 1,2, 3, 4, 5, 6, 7, 10]\n",
    "n = len(arr)\n",
    "print(\"Smallest missing element is\", findFirstMissing(arr, 0, n-1))"
   ]
  },
  {
   "cell_type": "markdown",
   "metadata": {},
   "source": [
    "**Q3) Given a positive integer, print the next smallest and next largest numbers that have the same number of 1 bits in their binary representation. Assume it is even.**"
   ]
  },
  {
   "cell_type": "code",
   "execution_count": 4,
   "metadata": {},
   "outputs": [
    {
     "name": "stdout",
     "output_type": "stream",
     "text": [
      "6\n",
      "3\n",
      "16\n",
      "4\n"
     ]
    }
   ],
   "source": [
    "def getNext(n):\n",
    "\n",
    "    c = n\n",
    "    c0 = 0 #num of 0 to right of p\n",
    "    c1 = 0 #num of 1 to right of p\n",
    "    \n",
    "    while (((c & 1) == 0) and (c != 0)):\n",
    "        c0 += 1\n",
    "        c >>= 1\n",
    "    \n",
    "    while ((c & 1) == 1):\n",
    "        c1 += 1\n",
    "        c >>= 1\n",
    "    \n",
    "    #position of right most non-trailing 1\n",
    "    p = c0 + c1\n",
    "    # Flip rightmost non-trailing zero\n",
    "    n |= (1 << p)\n",
    "    # Clear all bits to the right of p\n",
    "    n &= ~((1 << p) - 1)\n",
    "    # Insert (c1-1) ones on the right.\n",
    "    n |= (1 << (c1 - 1)) - 1\n",
    "    return n\n",
    "\n",
    "def getPrev(n):\n",
    "    c = n\n",
    "    c0=0\n",
    "    c1=0\n",
    "\n",
    "    while((c&1)==1):\n",
    "        c1 += 1\n",
    "        c >>=1\n",
    "        \n",
    "    if(c==0):\n",
    "        return -1\n",
    "\n",
    "    while((c&1) == 0 and (c!=0)):\n",
    "        c0+=1\n",
    "        c>>=1\n",
    "    #position of right most non-trailing 1\n",
    "    p=c0+c1\n",
    "    #clears from p onwards\n",
    "    n&= (~0)<<(p+1)\n",
    "    #sequence of (c1+1)\n",
    "    mask = (1<<(c1+1))-1\n",
    "    n|=(mask<<(c0-1))\n",
    "    return n\n",
    "\n",
    "if __name__ == \"__main__\":\n",
    "    n = 5 # input 1\n",
    "    print(getNext(n))\n",
    "    print(getPrev(n))\n",
    "    n = 8     #input 2\n",
    "    print(getNext(n))\n",
    "    print(getPrev(n))"
   ]
  }
 ],
 "metadata": {
  "kernelspec": {
   "display_name": "Python 3.10.6 64-bit",
   "language": "python",
   "name": "python3"
  },
  "language_info": {
   "codemirror_mode": {
    "name": "ipython",
    "version": 3
   },
   "file_extension": ".py",
   "mimetype": "text/x-python",
   "name": "python",
   "nbconvert_exporter": "python",
   "pygments_lexer": "ipython3",
   "version": "3.10.6"
  },
  "orig_nbformat": 4,
  "vscode": {
   "interpreter": {
    "hash": "916dbcbb3f70747c44a77c7bcd40155683ae19c65e1c03b4aa3499c5328201f1"
   }
  }
 },
 "nbformat": 4,
 "nbformat_minor": 2
}
