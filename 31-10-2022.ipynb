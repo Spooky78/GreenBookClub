{
 "cells": [
  {
   "cell_type": "markdown",
   "metadata": {},
   "source": [
    "**Q1) There are 100 closed lockers in a hallway. Behind the lockers are monsters. On round 1, you go through the lockers and open every single one. On round 2, you go through the lockers and shut every second. On round 3, you go through the lockers and toggle every third. On round N, you go through the lockers and toggle every Nth. After 100 rounds, the monsters will exit the open lockers and attack. How many monsters will there be attacking you?**\n",
    "\n",
    "Extension 1: Instead of 100 lockers, you now have N lockers and N rounds. Solve the same problem :-)\n",
    "\n",
    "Extension 2: Now, you have N lockers and M rounds, where N and M are not necessarily the same number. Solve the same problem once more."
   ]
  },
  {
   "cell_type": "code",
   "execution_count": null,
   "metadata": {},
   "outputs": [
    {
     "name": "stdout",
     "output_type": "stream",
     "text": [
      "1\n",
      "4\n",
      "9\n",
      "16\n",
      "25\n",
      "36\n",
      "49\n",
      "64\n",
      "81\n",
      "100\n"
     ]
    }
   ],
   "source": [
    "#O(n^2)\n",
    "LOCKERS = 100\n",
    "ROUNDS = 100\n",
    "\n",
    "lockers = [False] * (LOCKERS+1) #ignore index 0\n",
    "\n",
    "for i in range (1,ROUNDS+1):\n",
    "    #for 2nd pass start at 2, for 3rd start at 3, ect\n",
    "    for j in range (i,LOCKERS+1,i):\n",
    "        lockers[j] = not lockers[j]\n",
    "\n",
    "for i in range (1,101):\n",
    "    if lockers[i] is True:\n",
    "        print(i)"
   ]
  },
  {
   "cell_type": "markdown",
   "metadata": {},
   "source": [
    "**Q2) You have 1000 bottles of soda, and exactly one is poisoned. You have 10 test strips which can be used to detect poison. A single drop of poison will turn the test strip positive permanently. You can put any number of drops on a test strip at once and you can reuse a test strip as many times as you'd like (as long as the results are negative). However, you can only run tests once per day and it takes seven days to return a result. How would you figure out the poisoned bottle in as few days as possible?**\n",
    "\n",
    "- 1: strips 10:100 \n",
    "- 2: strips9: 11.1 = 12\n",
    "- 3: strips8: 1.5 = 2\n",
    "- 4: strips7: 1\n",
    "\n",
    "**days 4*7= 28**"
   ]
  },
  {
   "cell_type": "code",
   "execution_count": null,
   "metadata": {},
   "outputs": [
    {
     "name": "stdout",
     "output_type": "stream",
     "text": [
      "days: 28\n",
      "weeks: 4.0\n"
     ]
    }
   ],
   "source": [
    "#naive 28 days\n",
    "BOTTLES = 1000\n",
    "strips = 10\n",
    "days = 0\n",
    "currentBottles = BOTTLES\n",
    "\n",
    "while(currentBottles > 1):\n",
    "    currentBottles = currentBottles/strips\n",
    "    strips = strips -1\n",
    "    days = days+7\n",
    "\n",
    "print(\"days:\", days) \n",
    "print(\"weeks:\", days/7)"
   ]
  },
  {
   "cell_type": "markdown",
   "metadata": {},
   "source": [
    "\n",
    "**Optimal 7 days**\n",
    "\n",
    "Map 1000 keys to 10 bit binary values.\n",
    "\n",
    "If there's a 1 in the ith digit, then we will add a drop of this bottle's contents to test strip i.\n",
    "\n",
    "- Array of binary bottles\n",
    "- if digit index matches strip add to drops\n",
    "- if poisoned indicate strip\n",
    "- work out binary num from positive strips"
   ]
  },
  {
   "cell_type": "code",
   "execution_count": 6,
   "metadata": {},
   "outputs": [
    {
     "name": "stdout",
     "output_type": "stream",
     "text": [
      "0000001100\n"
     ]
    }
   ],
   "source": [
    "POISONED_BOTTLE = 12\n",
    "BOTTLES = 1000\n",
    "STRIPS = 10\n",
    "binary= []\n",
    "\n",
    "bottlesBinary = []\n",
    "strips = [[], [], [], [], [], [], [], [], [], []]\n",
    "poisioned = []\n",
    "\n",
    "#Appends decimal number to array in binary form\n",
    "def findBinary(num):\n",
    "    if (num > 1):\n",
    "        findBinary(num//2)\n",
    "    binary.append(num%2)\n",
    "\n",
    "\n",
    "def fillBottlesBinary():\n",
    "    for i in range(BOTTLES+1):\n",
    "        findBinary(i)\n",
    "\n",
    "        #Add extra 0 to front if needed\n",
    "        while (len(binary) < STRIPS):\n",
    "            binary.insert(0,0)\n",
    "\n",
    "        #convert array to string\n",
    "        strBinary =''\n",
    "        for j in binary:\n",
    "            strBinary +=''+str(j)\n",
    "\n",
    "        bottlesBinary.append(strBinary)\n",
    "        binary.clear()\n",
    "\n",
    "def addDropsToStrips():\n",
    "    for currentBottle in range(BOTTLES):\n",
    "        for currentStrip in range(STRIPS):\n",
    "            currentBottleID = bottlesBinary[currentBottle]\n",
    "            #checks if this soda should be added to this strip\n",
    "            if (currentBottleID[currentStrip] == '1'):\n",
    "                strips[currentStrip].append(currentBottle)\n",
    "\n",
    "                #Simulates the strip reacting to poison\n",
    "                if (currentBottle == POISONED_BOTTLE):\n",
    "                    poisioned.append(currentStrip)\n",
    "\n",
    "#converts array of poisoned strips to binary number (which is id of poisoned bottle)\n",
    "def findPoison():\n",
    "    poison = \"\"\n",
    "    for i in range(STRIPS):\n",
    "        if(poisioned.count(i)>0):\n",
    "            poison = poison + '1'\n",
    "        else:\n",
    "            poison = poison +'0'\n",
    "    print(poison)\n",
    "\n",
    "\n",
    "fillBottlesBinary()\n",
    "addDropsToStrips()\n",
    "findPoison()\n",
    "\n"
   ]
  }
 ],
 "metadata": {
  "kernelspec": {
   "display_name": "Python 3.10.6 64-bit",
   "language": "python",
   "name": "python3"
  },
  "language_info": {
   "codemirror_mode": {
    "name": "ipython",
    "version": 3
   },
   "file_extension": ".py",
   "mimetype": "text/x-python",
   "name": "python",
   "nbconvert_exporter": "python",
   "pygments_lexer": "ipython3",
   "version": "3.10.6"
  },
  "orig_nbformat": 4,
  "vscode": {
   "interpreter": {
    "hash": "916dbcbb3f70747c44a77c7bcd40155683ae19c65e1c03b4aa3499c5328201f1"
   }
  }
 },
 "nbformat": 4,
 "nbformat_minor": 2
}
